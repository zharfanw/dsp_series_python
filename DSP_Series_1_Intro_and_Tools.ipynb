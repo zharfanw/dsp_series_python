{
  "nbformat": 4,
  "nbformat_minor": 0,
  "metadata": {
    "colab": {
      "provenance": [],
      "toc_visible": true,
      "authorship_tag": "ABX9TyPUKEggaZKjOmTxNOKVVkml",
      "include_colab_link": true
    },
    "kernelspec": {
      "name": "python3",
      "display_name": "Python 3"
    },
    "language_info": {
      "name": "python"
    }
  },
  "cells": [
    {
      "cell_type": "markdown",
      "metadata": {
        "id": "view-in-github",
        "colab_type": "text"
      },
      "source": [
        "<a href=\"https://colab.research.google.com/github/zharfanw/dsp_series_python/blob/main/DSP_Series_1_Intro_and_Tools.ipynb\" target=\"_parent\"><img src=\"https://colab.research.google.com/assets/colab-badge.svg\" alt=\"Open In Colab\"/></a>"
      ]
    },
    {
      "cell_type": "markdown",
      "source": [
        "# DSP Series 1 : Intro and tools\n",
        "*By Muhammad Zharfan Wiranata*\n",
        "<br><br>\n",
        "We need tools for doing signal processing. And choosen Google golab with its Python. So there are tools we needed"
      ],
      "metadata": {
        "id": "NdAr2hrFtaTd"
      }
    },
    {
      "cell_type": "markdown",
      "source": [
        "## [Numpy](https://numpy.org/doc/stable/index.html)"
      ],
      "metadata": {
        "id": "67RVmC1K14Qc"
      }
    },
    {
      "cell_type": "markdown",
      "source": [
        "\n",
        "NumPy is the fundamental package for scientific computing in Python. It is a Python library that provides a multidimensional array object, various derived objects (such as masked arrays and matrices), and an assortment of routines for fast operations on arrays, including mathematical, logical, shape manipulation, sorting, selecting, I/O, discrete Fourier transforms, basic linear algebra, basic statistical operations, random simulation and much more.\n",
        "\n",
        "The point is is like MATLAB array for python. It has its [complete guide](https://numpy.org/doc/stable/user/absolute_beginners.html) for beginner. So on this notebook i just share some usefull snippet code for you and me by my Experience.\n"
      ],
      "metadata": {
        "id": "cwxTmD81wNt6"
      }
    },
    {
      "cell_type": "markdown",
      "source": [
        "### Snippet : Create and Append Numpy Array"
      ],
      "metadata": {
        "id": "uVIb6u0CyWWS"
      }
    },
    {
      "cell_type": "markdown",
      "source": [
        "Create Empty Array and append it"
      ],
      "metadata": {
        "id": "win83xd50eqy"
      }
    },
    {
      "cell_type": "code",
      "source": [
        "import numpy as np\n",
        "\n",
        "## First we create an empty numpy/filled array\n",
        "a = np.array([])\n",
        "\n",
        "print(\"Variable a before append: \",end=\"\")\n",
        "print(a)\n",
        "\n",
        "for i in range(10):\n",
        "  # print(i)\n",
        "  a = np.append(a,i*3)\n",
        "\n",
        "print(\"Variable a after append: \",end=\"\")\n",
        "print(a)"
      ],
      "metadata": {
        "colab": {
          "base_uri": "https://localhost:8080/"
        },
        "id": "3omqZ3kkzdU0",
        "outputId": "957cc845-af3e-486f-e621-f0a7c56fe872"
      },
      "execution_count": 6,
      "outputs": [
        {
          "output_type": "stream",
          "name": "stdout",
          "text": [
            "Variable a before append: []\n",
            "Variable a after append: [ 0.  3.  6.  9. 12. 15. 18. 21. 24. 27.]\n"
          ]
        }
      ]
    },
    {
      "cell_type": "markdown",
      "source": [
        "Filled Array and Append it"
      ],
      "metadata": {
        "id": "hr7juISM0kg0"
      }
    },
    {
      "cell_type": "code",
      "execution_count": 10,
      "metadata": {
        "colab": {
          "base_uri": "https://localhost:8080/"
        },
        "id": "n-mXScdYtUl7",
        "outputId": "f15b6890-b9e5-419b-80cb-8c15f0257856"
      },
      "outputs": [
        {
          "output_type": "stream",
          "name": "stdout",
          "text": [
            "Variable a before append: [1 2 4]\n",
            "Variable a after append: [ 1  2  4  0  3  6  9 12 15 18 21 24 27]\n"
          ]
        }
      ],
      "source": [
        "## First we create an empty numpy/filled array\n",
        "a = np.array([1,2,4])\n",
        "\n",
        "print(\"Variable a before append: \",end=\"\")\n",
        "print(a)\n",
        "\n",
        "for i in range(10):\n",
        "  # print(i)\n",
        "  a = np.append(a,i*3)\n",
        "\n",
        "print(\"Variable a after append: \",end=\"\")\n",
        "print(a)"
      ]
    },
    {
      "cell_type": "markdown",
      "source": [
        "Filled 2D array and append it"
      ],
      "metadata": {
        "id": "v4PXvz8W1qE0"
      }
    },
    {
      "cell_type": "code",
      "source": [
        "## First we create an empty numpy/filled array\n",
        "# a = np.array([[1,2,4]])\n",
        "a = np.array([[1,2,4],[5,6,7]])\n",
        "\n",
        "\n",
        "print(\"Variable a before append: \",end=\"\")\n",
        "print(a)\n",
        "\n",
        "for i in range(10):\n",
        "  # print(i)\n",
        "  a = np.append(a,[[i*3,i*4,i*5]], axis=0)\n",
        "\n",
        "print(\"Variable a after append: \",end=\"\")\n",
        "print(a)"
      ],
      "metadata": {
        "colab": {
          "base_uri": "https://localhost:8080/"
        },
        "id": "R0sXJ6p90n9C",
        "outputId": "83dc7270-43f4-41ee-e832-4182a77d04bc"
      },
      "execution_count": 14,
      "outputs": [
        {
          "output_type": "stream",
          "name": "stdout",
          "text": [
            "Variable a before append: [[1 2 4]\n",
            " [5 6 7]]\n",
            "Variable a after append: [[ 1  2  4]\n",
            " [ 5  6  7]\n",
            " [ 0  0  0]\n",
            " [ 3  4  5]\n",
            " [ 6  8 10]\n",
            " [ 9 12 15]\n",
            " [12 16 20]\n",
            " [15 20 25]\n",
            " [18 24 30]\n",
            " [21 28 35]\n",
            " [24 32 40]\n",
            " [27 36 45]]\n"
          ]
        }
      ]
    },
    {
      "cell_type": "code",
      "source": [],
      "metadata": {
        "id": "zO-GXwzN1C1g"
      },
      "execution_count": null,
      "outputs": []
    },
    {
      "cell_type": "markdown",
      "source": [
        "### Snippet : Create Time domain "
      ],
      "metadata": {
        "id": "RjDyvA9d2C9z"
      }
    },
    {
      "cell_type": "code",
      "source": [
        "first_time = 0 # seconds\n",
        "last_time = 10 # seconds\n",
        "\n",
        "fs = 0.1\n",
        "\n",
        "time = np.arange(first_time,last_time,fs)\n",
        "\n",
        "print(time)"
      ],
      "metadata": {
        "colab": {
          "base_uri": "https://localhost:8080/"
        },
        "id": "Vy8K0SQO28Zz",
        "outputId": "c27fdde1-04d9-4c75-c399-0ee335ff25e1"
      },
      "execution_count": 22,
      "outputs": [
        {
          "output_type": "stream",
          "name": "stdout",
          "text": [
            "[0.  0.1 0.2 0.3 0.4 0.5 0.6 0.7 0.8 0.9 1.  1.1 1.2 1.3 1.4 1.5 1.6 1.7\n",
            " 1.8 1.9 2.  2.1 2.2 2.3 2.4 2.5 2.6 2.7 2.8 2.9 3.  3.1 3.2 3.3 3.4 3.5\n",
            " 3.6 3.7 3.8 3.9 4.  4.1 4.2 4.3 4.4 4.5 4.6 4.7 4.8 4.9 5.  5.1 5.2 5.3\n",
            " 5.4 5.5 5.6 5.7 5.8 5.9 6.  6.1 6.2 6.3 6.4 6.5 6.6 6.7 6.8 6.9 7.  7.1\n",
            " 7.2 7.3 7.4 7.5 7.6 7.7 7.8 7.9 8.  8.1 8.2 8.3 8.4 8.5 8.6 8.7 8.8 8.9\n",
            " 9.  9.1 9.2 9.3 9.4 9.5 9.6 9.7 9.8 9.9]\n"
          ]
        }
      ]
    },
    {
      "cell_type": "code",
      "source": [],
      "metadata": {
        "id": "ClSnrvBE3mDi"
      },
      "execution_count": null,
      "outputs": []
    },
    {
      "cell_type": "markdown",
      "source": [
        "## [Pandas](https://pandas.pydata.org/)\n"
      ],
      "metadata": {
        "id": "dBt7bR1z6SDN"
      }
    },
    {
      "cell_type": "markdown",
      "source": [
        "Pandas is like table for data processing. It can handle very big big data. And can handle more variant data type in a row. Furthermore, we can go to [this guide](https://pandas.pydata.org/docs/getting_started/intro_tutorials/index.html) for complete guide.\n",
        "\n"
      ],
      "metadata": {
        "id": "PHOkqUo86YVr"
      }
    },
    {
      "cell_type": "markdown",
      "source": [
        "like numpy above, we just share some snippet code that i always used in my project"
      ],
      "metadata": {
        "id": "_Td5TrpLB9H-"
      }
    },
    {
      "cell_type": "markdown",
      "source": [
        "### Snippet : Create and Append data in pandas"
      ],
      "metadata": {
        "id": "Y-GPRYb-CHI-"
      }
    },
    {
      "cell_type": "markdown",
      "source": [
        "Append row"
      ],
      "metadata": {
        "id": "vA7Oyl-GCMGS"
      }
    },
    {
      "cell_type": "markdown",
      "source": [
        "Append Column"
      ],
      "metadata": {
        "id": "Z6ntAH_DCNeM"
      }
    },
    {
      "cell_type": "markdown",
      "source": [
        "Cleaning Zero Data"
      ],
      "metadata": {
        "id": "_qKZaaWoCQja"
      }
    },
    {
      "cell_type": "code",
      "source": [],
      "metadata": {
        "id": "limEfowsB1Q6"
      },
      "execution_count": null,
      "outputs": []
    }
  ]
}